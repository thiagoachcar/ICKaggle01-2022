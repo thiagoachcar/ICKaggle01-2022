{
  "cells": [
    {
      "cell_type": "code",
      "execution_count": null,
      "id": "1c7a4bf4",
      "metadata": {
        "_cell_guid": "b1076dfc-b9ad-4769-8c92-a6c4dae69d19",
        "_uuid": "8f2839f25d086af736a60e9eeb907d3b93b6e0e5",
        "execution": {
          "iopub.execute_input": "2022-11-22T16:14:45.798265Z",
          "iopub.status.busy": "2022-11-22T16:14:45.796750Z",
          "iopub.status.idle": "2022-11-22T16:14:45.812701Z",
          "shell.execute_reply": "2022-11-22T16:14:45.811800Z"
        },
        "papermill": {
          "duration": 0.026398,
          "end_time": "2022-11-22T16:14:45.816034",
          "exception": false,
          "start_time": "2022-11-22T16:14:45.789636",
          "status": "completed"
        },
        "tags": [],
        "id": "1c7a4bf4"
      },
      "outputs": [],
      "source": [
        "Aimport numpy as np\n",
        "import pandas as pd"
      ]
    },
    {
      "cell_type": "code",
      "source": [
        "!gdown --id 12U3D4BItNHIcGdoA7SEZ-cDOLE7ZwwSV\n",
        "!gdown --id 1NLYnxS-fa8uiAWeyWC0xe_j2UONaZZgi"
      ],
      "metadata": {
        "id": "41258jszTm_u"
      },
      "id": "41258jszTm_u",
      "execution_count": null,
      "outputs": []
    },
    {
      "cell_type": "code",
      "execution_count": null,
      "id": "23835333",
      "metadata": {
        "execution": {
          "iopub.execute_input": "2022-11-22T16:14:45.827416Z",
          "iopub.status.busy": "2022-11-22T16:14:45.826971Z",
          "iopub.status.idle": "2022-11-22T16:14:51.421822Z",
          "shell.execute_reply": "2022-11-22T16:14:51.420613Z"
        },
        "papermill": {
          "duration": 5.604857,
          "end_time": "2022-11-22T16:14:51.425464",
          "exception": false,
          "start_time": "2022-11-22T16:14:45.820607",
          "status": "completed"
        },
        "tags": [],
        "id": "23835333"
      },
      "outputs": [],
      "source": [
        "data_train = pd.read_csv('/content/train.csv')\n",
        "data_test = pd.read_csv('/content/test.csv')"
      ]
    },
    {
      "cell_type": "code",
      "source": [
        "def preproc(data):\n",
        "    data.DS_TIPO_INTERNACAO = data.DS_TIPO_INTERNACAO.fillna('0')\n",
        "    data.DS_TIPO_ACOMODACAO = data.DS_TIPO_ACOMODACAO.fillna('0')\n",
        "    data.DS_TIPO_ATENDIMENTO = data.DS_TIPO_ATENDIMENTO.fillna('0')\n",
        "    data.DS_INDICACAO_ACIDENTE = data.DS_INDICACAO_ACIDENTE.fillna('0')\n",
        "    data.DS_UNIDADE_TEMPO_DOENCA = data.DS_UNIDADE_TEMPO_DOENCA.fillna('0')\n",
        "    data.QT_DIA_SOLICITADO = data.QT_DIA_SOLICITADO.fillna(0)\n",
        "    data.QT_TEMPO_DOENCA = data.QT_TEMPO_DOENCA.fillna(0)\n",
        "    data.CD_GUIA_REFERENCIA = data.CD_GUIA_REFERENCIA.fillna(0)\n",
        "    data.CD_CID = data.CD_CID.notnull().mul(1)\n",
        "    data.CD_CID = data.CD_CID.fillna(0)\n",
        "    return data"
      ],
      "metadata": {
        "id": "c1e8nvVlYsuX"
      },
      "id": "c1e8nvVlYsuX",
      "execution_count": null,
      "outputs": []
    },
    {
      "cell_type": "code",
      "source": [
        "data_train.info()"
      ],
      "metadata": {
        "colab": {
          "base_uri": "https://localhost:8080/"
        },
        "id": "lacU20fO1yLU",
        "outputId": "68d546ab-8661-406a-982d-09e67c609459"
      },
      "id": "lacU20fO1yLU",
      "execution_count": null,
      "outputs": [
        {
          "output_type": "stream",
          "name": "stdout",
          "text": [
            "<class 'pandas.core.frame.DataFrame'>\n",
            "RangeIndex: 227122 entries, 0 to 227121\n",
            "Data columns (total 32 columns):\n",
            " #   Column                     Non-Null Count   Dtype  \n",
            "---  ------                     --------------   -----  \n",
            " 0   Unnamed: 0                 227122 non-null  int64  \n",
            " 1   NR_SEQ_REQUISICAO          227122 non-null  int64  \n",
            " 2   NR_SEQ_ITEM                227122 non-null  int64  \n",
            " 3   DT_REQUISICAO              227122 non-null  int64  \n",
            " 4   DS_TIPO_GUIA               227122 non-null  object \n",
            " 5   DT_NASCIMENTO              227112 non-null  float64\n",
            " 6   NR_PRODUTO                 227122 non-null  int64  \n",
            " 7   DS_TIPO_PREST_SOLICITANTE  227122 non-null  object \n",
            " 8   DS_CBO                     227122 non-null  object \n",
            " 9   DS_TIPO_CONSULTA           10511 non-null   object \n",
            " 10  QT_TEMPO_DOENCA            266 non-null     float64\n",
            " 11  DS_UNIDADE_TEMPO_DOENCA    266 non-null     object \n",
            " 12  DS_TIPO_DOENCA             531 non-null     object \n",
            " 13  DS_INDICACAO_ACIDENTE      209539 non-null  object \n",
            " 14  DS_TIPO_SAIDA              0 non-null       float64\n",
            " 15  DS_TIPO_INTERNACAO         59863 non-null   object \n",
            " 16  DS_REGIME_INTERNACAO       59863 non-null   object \n",
            " 17  DS_CARATER_ATENDIMENTO     227122 non-null  object \n",
            " 18  DS_TIPO_ACOMODACAO         59781 non-null   object \n",
            " 19  QT_DIA_SOLICITADO          58995 non-null   float64\n",
            " 20  CD_GUIA_REFERENCIA         37463 non-null   float64\n",
            " 21  DS_TIPO_ATENDIMENTO        168045 non-null  object \n",
            " 22  CD_CID                     131250 non-null  object \n",
            " 23  DS_INDICACAO_CLINICA       179944 non-null  object \n",
            " 24  DS_TIPO_ITEM               227122 non-null  object \n",
            " 25  CD_ITEM                    227122 non-null  int64  \n",
            " 26  DS_ITEM                    227122 non-null  object \n",
            " 27  DS_CLASSE                  227122 non-null  object \n",
            " 28  DS_SUBGRUPO                227122 non-null  object \n",
            " 29  DS_GRUPO                   227122 non-null  object \n",
            " 30  QT_SOLICITADA              227122 non-null  float64\n",
            " 31  DS_STATUS_ITEM             227122 non-null  object \n",
            "dtypes: float64(6), int64(6), object(20)\n",
            "memory usage: 55.4+ MB\n"
          ]
        }
      ]
    },
    {
      "cell_type": "code",
      "source": [
        "data_test.info()"
      ],
      "metadata": {
        "colab": {
          "base_uri": "https://localhost:8080/"
        },
        "id": "fbNdm6I73D5l",
        "outputId": "dcd510c2-cf38-44f5-83c4-8d244b4724d3"
      },
      "id": "fbNdm6I73D5l",
      "execution_count": null,
      "outputs": [
        {
          "output_type": "stream",
          "name": "stdout",
          "text": [
            "<class 'pandas.core.frame.DataFrame'>\n",
            "RangeIndex: 186144 entries, 0 to 186143\n",
            "Data columns (total 31 columns):\n",
            " #   Column                     Non-Null Count   Dtype  \n",
            "---  ------                     --------------   -----  \n",
            " 0   Unnamed: 0                 186144 non-null  int64  \n",
            " 1   NR_SEQ_REQUISICAO          186144 non-null  int64  \n",
            " 2   NR_SEQ_ITEM                186144 non-null  int64  \n",
            " 3   DT_REQUISICAO              186144 non-null  int64  \n",
            " 4   DS_TIPO_GUIA               186144 non-null  object \n",
            " 5   DT_NASCIMENTO              186144 non-null  float64\n",
            " 6   NR_PRODUTO                 186144 non-null  int64  \n",
            " 7   DS_TIPO_PREST_SOLICITANTE  186144 non-null  object \n",
            " 8   DS_CBO                     186144 non-null  object \n",
            " 9   DS_TIPO_CONSULTA           5113 non-null    object \n",
            " 10  QT_TEMPO_DOENCA            37 non-null      float64\n",
            " 11  DS_UNIDADE_TEMPO_DOENCA    38 non-null      object \n",
            " 12  DS_TIPO_DOENCA             439 non-null     object \n",
            " 13  DS_INDICACAO_ACIDENTE      171712 non-null  object \n",
            " 14  DS_TIPO_SAIDA              0 non-null       float64\n",
            " 15  DS_TIPO_INTERNACAO         62181 non-null   object \n",
            " 16  DS_REGIME_INTERNACAO       62181 non-null   object \n",
            " 17  DS_CARATER_ATENDIMENTO     186144 non-null  object \n",
            " 18  DS_TIPO_ACOMODACAO         62182 non-null   object \n",
            " 19  QT_DIA_SOLICITADO          61855 non-null   float64\n",
            " 20  CD_GUIA_REFERENCIA         33063 non-null   float64\n",
            " 21  DS_TIPO_ATENDIMENTO        123880 non-null  object \n",
            " 22  CD_CID                     46722 non-null   object \n",
            " 23  DS_INDICACAO_CLINICA       145787 non-null  object \n",
            " 24  DS_TIPO_ITEM               186144 non-null  object \n",
            " 25  CD_ITEM                    186144 non-null  int64  \n",
            " 26  DS_ITEM                    186144 non-null  object \n",
            " 27  DS_CLASSE                  186144 non-null  object \n",
            " 28  DS_SUBGRUPO                186144 non-null  object \n",
            " 29  DS_GRUPO                   186144 non-null  object \n",
            " 30  QT_SOLICITADA              186144 non-null  float64\n",
            "dtypes: float64(6), int64(6), object(19)\n",
            "memory usage: 44.0+ MB\n"
          ]
        }
      ]
    },
    {
      "cell_type": "code",
      "source": [
        "from sklearn.preprocessing import StandardScaler, OneHotEncoder\n",
        "\n",
        "def standardScalerFunc(data):\n",
        "  scaler = StandardScaler()\n",
        "  scalerT = scaler.fit_transform(data)\n",
        "\n",
        "  return scaler, pd.DataFrame(scalerT)\n",
        "\n",
        "def oneHotEncoderFunc(data):\n",
        "  enc = OneHotEncoder(sparse=False, handle_unknown='ignore')\n",
        "  encT = enc.fit_transform(data)\n",
        "  \n",
        "  return enc, pd.DataFrame(encT)"
      ],
      "metadata": {
        "id": "6yCKEIBrZX3A"
      },
      "id": "6yCKEIBrZX3A",
      "execution_count": null,
      "outputs": []
    },
    {
      "cell_type": "code",
      "execution_count": null,
      "id": "565dd51c",
      "metadata": {
        "execution": {
          "iopub.execute_input": "2022-11-22T16:14:52.598607Z",
          "iopub.status.busy": "2022-11-22T16:14:52.598174Z",
          "iopub.status.idle": "2022-11-22T16:14:53.029290Z",
          "shell.execute_reply": "2022-11-22T16:14:53.027625Z"
        },
        "papermill": {
          "duration": 0.440527,
          "end_time": "2022-11-22T16:14:53.032627",
          "exception": false,
          "start_time": "2022-11-22T16:14:52.592100",
          "status": "completed"
        },
        "tags": [],
        "id": "565dd51c"
      },
      "outputs": [],
      "source": [
        "data_train = preproc(data_train)\n",
        "\n",
        "num = data_train[['QT_SOLICITADA', 'QT_DIA_SOLICITADO', 'QT_TEMPO_DOENCA', 'CD_GUIA_REFERENCIA']]\n",
        "cat = data_train[['DS_TIPO_ACOMODACAO','CD_CID','DS_UNIDADE_TEMPO_DOENCA', 'DS_TIPO_INTERNACAO', 'DS_CARATER_ATENDIMENTO', 'DS_TIPO_ATENDIMENTO', 'DS_INDICACAO_ACIDENTE', 'DS_TIPO_PREST_SOLICITANTE', 'DS_TIPO_GUIA', 'DS_GRUPO', 'CD_ITEM', 'DS_CBO', 'DS_SUBGRUPO']]\n",
        "target = data_train['DS_STATUS_ITEM']\n",
        "\n",
        "X = pd.concat([num, cat], axis=1)\n",
        "X = X.dropna()\n",
        "y = target"
      ]
    },
    {
      "cell_type": "code",
      "execution_count": null,
      "id": "ab9c7094",
      "metadata": {
        "execution": {
          "iopub.execute_input": "2022-11-22T16:14:53.062930Z",
          "iopub.status.busy": "2022-11-22T16:14:53.061546Z",
          "iopub.status.idle": "2022-11-22T16:15:01.121619Z",
          "shell.execute_reply": "2022-11-22T16:15:01.120493Z"
        },
        "papermill": {
          "duration": 8.068477,
          "end_time": "2022-11-22T16:15:01.124310",
          "exception": false,
          "start_time": "2022-11-22T16:14:53.055833",
          "status": "completed"
        },
        "tags": [],
        "id": "ab9c7094"
      },
      "outputs": [],
      "source": [
        "from sklearn.ensemble import RandomForestClassifier\n",
        "from sklearn.model_selection import train_test_split\n",
        "from sklearn.metrics import classification_report, confusion_matrix, ConfusionMatrixDisplay, accuracy_score, f1_score\n",
        "\n",
        "X_train, X_test, y_train, y_test = train_test_split(X, y, test_size=0.2, random_state=0)\n",
        "\n",
        "scaler, x_train_scaler = standardScalerFunc(X_train[['QT_SOLICITADA', 'QT_DIA_SOLICITADO', 'QT_TEMPO_DOENCA', 'CD_GUIA_REFERENCIA']])\n",
        "enc, x_train_enc = oneHotEncoderFunc(X_train[['DS_TIPO_ACOMODACAO','CD_CID','DS_UNIDADE_TEMPO_DOENCA', 'DS_TIPO_INTERNACAO', 'DS_CARATER_ATENDIMENTO', 'DS_TIPO_ATENDIMENTO', 'DS_INDICACAO_ACIDENTE', 'DS_TIPO_PREST_SOLICITANTE', 'DS_TIPO_GUIA', 'DS_GRUPO']])\n",
        "x_train = pd.concat([x_train_scaler, x_train_enc], axis=1)\n",
        "\n",
        "x_test_scaler = scaler.transform(X_test[['QT_SOLICITADA', 'QT_DIA_SOLICITADO', 'QT_TEMPO_DOENCA', 'CD_GUIA_REFERENCIA']])\n",
        "x_test_enc = enc.transform(X_test[['DS_TIPO_ACOMODACAO','CD_CID','DS_UNIDADE_TEMPO_DOENCA', 'DS_TIPO_INTERNACAO', 'DS_CARATER_ATENDIMENTO', 'DS_TIPO_ATENDIMENTO', 'DS_INDICACAO_ACIDENTE', 'DS_TIPO_PREST_SOLICITANTE', 'DS_TIPO_GUIA', 'DS_GRUPO']])\n",
        "x_test = pd.concat([pd.DataFrame(x_test_scaler), pd.DataFrame(x_test_enc)], axis=1)"
      ]
    },
    {
      "cell_type": "code",
      "source": [
        "clf = RandomForestClassifier(n_estimators=20, random_state=0)\n",
        "clf.fit(x_train, y_train)\n",
        "yPred = clf.predict(x_test)"
      ],
      "metadata": {
        "id": "G-wkPUr06faN"
      },
      "id": "G-wkPUr06faN",
      "execution_count": null,
      "outputs": []
    },
    {
      "cell_type": "code",
      "execution_count": null,
      "id": "2d97c262",
      "metadata": {
        "execution": {
          "iopub.execute_input": "2022-11-22T16:15:01.135469Z",
          "iopub.status.busy": "2022-11-22T16:15:01.134991Z",
          "iopub.status.idle": "2022-11-22T16:15:03.609483Z",
          "shell.execute_reply": "2022-11-22T16:15:03.607637Z"
        },
        "papermill": {
          "duration": 2.483843,
          "end_time": "2022-11-22T16:15:03.612866",
          "exception": false,
          "start_time": "2022-11-22T16:15:01.129023",
          "status": "completed"
        },
        "tags": [],
        "id": "2d97c262",
        "colab": {
          "base_uri": "https://localhost:8080/"
        },
        "outputId": "4d84163b-1d41-480b-a916-a0b7d31e66b5"
      },
      "outputs": [
        {
          "output_type": "stream",
          "name": "stdout",
          "text": [
            "[[28943  1889]\n",
            " [10747  3846]]\n",
            "              precision    recall  f1-score   support\n",
            "\n",
            "  Autorizado       0.73      0.94      0.82     30832\n",
            "      Negado       0.67      0.26      0.38     14593\n",
            "\n",
            "    accuracy                           0.72     45425\n",
            "   macro avg       0.70      0.60      0.60     45425\n",
            "weighted avg       0.71      0.72      0.68     45425\n",
            "\n",
            "0.7218271876719868\n"
          ]
        }
      ],
      "source": [
        "print(confusion_matrix(y_test,yPred))\n",
        "cm = (confusion_matrix(y_test,yPred))\n",
        "print(classification_report(y_test,yPred))\n",
        "print(accuracy_score(y_test, yPred))"
      ]
    },
    {
      "cell_type": "code",
      "source": [
        "import matplotlib.pyplot as plt\n",
        "disp = ConfusionMatrixDisplay(confusion_matrix=cm, display_labels=clf.classes_)\n",
        "disp.plot()\n",
        "plt.gcf().set_size_inches(10, 10)\n",
        "plt.show()"
      ],
      "metadata": {
        "colab": {
          "base_uri": "https://localhost:8080/",
          "height": 574
        },
        "id": "zeVhHt_JX0Ut",
        "outputId": "c1915463-fa63-4192-f275-9e8319b31ed5"
      },
      "id": "zeVhHt_JX0Ut",
      "execution_count": null,
      "outputs": [
        {
          "output_type": "display_data",
          "data": {
            "text/plain": [
              "<Figure size 720x720 with 2 Axes>"
            ],
            "image/png": "[encoded data removed]"
          },
          "metadata": {
            "needs_background": "light"
          }
        }
      ]
    },
    {
      "cell_type": "code",
      "execution_count": null,
      "id": "0e48f34e",
      "metadata": {
        "execution": {
          "iopub.execute_input": "2022-11-22T16:15:03.624118Z",
          "iopub.status.busy": "2022-11-22T16:15:03.623689Z",
          "iopub.status.idle": "2022-11-22T16:15:04.465671Z",
          "shell.execute_reply": "2022-11-22T16:15:04.464529Z"
        },
        "papermill": {
          "duration": 0.850665,
          "end_time": "2022-11-22T16:15:04.468497",
          "exception": false,
          "start_time": "2022-11-22T16:15:03.617832",
          "status": "completed"
        },
        "tags": [],
        "id": "0e48f34e"
      },
      "outputs": [],
      "source": [
        "data_test_pp = preproc(data_test)\n",
        "test_scaler = scaler.transform(data_test_pp[['QT_SOLICITADA', 'QT_DIA_SOLICITADO', 'QT_TEMPO_DOENCA', 'CD_GUIA_REFERENCIA']])\n",
        "test_enc = enc.transform(data_test_pp[['DS_TIPO_ACOMODACAO','CD_CID','DS_UNIDADE_TEMPO_DOENCA', 'DS_TIPO_INTERNACAO', 'DS_CARATER_ATENDIMENTO', 'DS_TIPO_ATENDIMENTO', 'DS_INDICACAO_ACIDENTE', 'DS_TIPO_PREST_SOLICITANTE', 'DS_TIPO_GUIA', 'DS_GRUPO']])\n",
        "\n",
        "test = pd.concat([pd.DataFrame(test_scaler), pd.DataFrame(test_enc)], axis=1)"
      ]
    },
    {
      "cell_type": "code",
      "execution_count": null,
      "id": "8128d08a",
      "metadata": {
        "execution": {
          "iopub.execute_input": "2022-11-22T16:15:04.479473Z",
          "iopub.status.busy": "2022-11-22T16:15:04.478698Z",
          "iopub.status.idle": "2022-11-22T16:15:05.469083Z",
          "shell.execute_reply": "2022-11-22T16:15:05.467927Z"
        },
        "papermill": {
          "duration": 0.99872,
          "end_time": "2022-11-22T16:15:05.471699",
          "exception": false,
          "start_time": "2022-11-22T16:15:04.472979",
          "status": "completed"
        },
        "tags": [],
        "id": "8128d08a"
      },
      "outputs": [],
      "source": [
        "pred = clf.predict(test)"
      ]
    },
    {
      "cell_type": "code",
      "execution_count": null,
      "id": "2878f6d8",
      "metadata": {
        "execution": {
          "iopub.execute_input": "2022-11-22T16:15:05.721500Z",
          "iopub.status.busy": "2022-11-22T16:15:05.721095Z",
          "iopub.status.idle": "2022-11-22T16:15:06.090215Z",
          "shell.execute_reply": "2022-11-22T16:15:06.088842Z"
        },
        "papermill": {
          "duration": 0.379068,
          "end_time": "2022-11-22T16:15:06.093238",
          "exception": false,
          "start_time": "2022-11-22T16:15:05.714170",
          "status": "completed"
        },
        "tags": [],
        "id": "2878f6d8"
      },
      "outputs": [],
      "source": [
        "from itertools import zip_longest\n",
        "submission = pd.DataFrame.from_records(zip_longest(data_test['Unnamed: 0'], pred), columns=['ID', 'DS_STATUS_ITEM'])\n",
        "\n",
        "submission.set_index('ID').to_csv('submission.csv')"
      ]
    },
    {
      "cell_type": "code",
      "source": [
        "!python --version"
      ],
      "metadata": {
        "id": "rsVLegZm2ZTu",
        "outputId": "62848a0f-df69-401b-ce75-8df9e1a6a511",
        "colab": {
          "base_uri": "https://localhost:8080/"
        }
      },
      "id": "rsVLegZm2ZTu",
      "execution_count": null,
      "outputs": [
        {
          "output_type": "stream",
          "name": "stdout",
          "text": [
            "Python 3.8.16\n"
          ]
        }
      ]
    }
  ],
  "metadata": {
    "kernelspec": {
      "display_name": "Python 3",
      "language": "python",
      "name": "python3"
    },
    "language_info": {
      "codemirror_mode": {
        "name": "ipython",
        "version": 3
      },
      "file_extension": ".py",
      "mimetype": "text/x-python",
      "name": "python",
      "nbconvert_exporter": "python",
      "pygments_lexer": "ipython3",
      "version": "3.7.12"
    },
    "papermill": {
      "default_parameters": {},
      "duration": 31.12297,
      "end_time": "2022-11-22T16:15:07.053412",
      "environment_variables": {},
      "exception": null,
      "input_path": "__notebook__.ipynb",
      "output_path": "__notebook__.ipynb",
      "parameters": {},
      "start_time": "2022-11-22T16:14:35.930442",
      "version": "2.3.4"
    },
    "colab": {
      "provenance": []
    }
  },
  "nbformat": 4,
  "nbformat_minor": 5
}